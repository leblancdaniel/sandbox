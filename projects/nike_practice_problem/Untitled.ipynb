{
 "cells": [
  {
   "cell_type": "markdown",
   "metadata": {},
   "source": [
    "# Nike Senior Data Scientist, Commercial Analytics\n",
    "\n",
    "There are 3 input files:\n",
    "- Some sales data (category_sales.csv)\n",
    "- Date dimension (date_dim.csv)\n",
    "- Some store attributes (store_lookup.csv)\n",
    "\n",
    "Please complete the following steps in order.  Use R and/or Python and be prepared to show your work and share your approach and code with the team.\n",
    "\n",
    "1) Create a summary table that matches summary_tbl.csv.\n",
    "\n",
    "2) Some stores are missing \"running_sales\" data. Where missing, fill in those months with your best prediction using any of data in the csv files.\n",
    "\n",
    "3) Using any of the data in the .csv files, for each store identify the most similar store(s).\n",
    "\n",
    "Note: Points are given for the most simple, elegant solution. Feel free to spend up to 3 hours on it, but remember that we're really just looking to assess how you approach everyday problems not how many angles you explore"
   ]
  },
  {
   "cell_type": "markdown",
   "metadata": {},
   "source": [
    "## Problem #1: Create a summary table that matches `summary_tbl.csv`\n",
    "\n",
    "First, we should take view our input files to understand what data we have and describe what it looks like.  "
   ]
  },
  {
   "cell_type": "code",
   "execution_count": null,
   "metadata": {},
   "outputs": [],
   "source": []
  }
 ],
 "metadata": {
  "kernelspec": {
   "display_name": "Python 3",
   "language": "python",
   "name": "python3"
  },
  "language_info": {
   "codemirror_mode": {
    "name": "ipython",
    "version": 3
   },
   "file_extension": ".py",
   "mimetype": "text/x-python",
   "name": "python",
   "nbconvert_exporter": "python",
   "pygments_lexer": "ipython3",
   "version": "3.7.8"
  }
 },
 "nbformat": 4,
 "nbformat_minor": 4
}
